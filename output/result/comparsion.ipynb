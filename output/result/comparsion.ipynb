{
 "cells": [
  {
   "cell_type": "code",
   "execution_count": 5,
   "metadata": {},
   "outputs": [],
   "source": [
    "import pandas as pd\n",
    "import glob"
   ]
  },
  {
   "cell_type": "code",
   "execution_count": 19,
   "metadata": {},
   "outputs": [
    {
     "name": "stdout",
     "output_type": "stream",
     "text": [
      "扩张性心肌病_DeepWalk_256_predict.csv 17\n",
      "扩张性心肌病_GraRep_128_predict.csv 39\n",
      "扩张性心肌病_LINE_128_predict.csv 51\n",
      "扩张性心肌病_SVD_256_predict.csv 9\n",
      "扩张性心肌病_HOPE_256_predict.csv 3\n",
      "扩张性心肌病_node2vec_256_predict.csv 16\n",
      "扩张性心肌病_SDNE_256_predict.csv 53\n",
      "扩张性心肌病_GF_256_predict.csv 10\n",
      "扩张性心肌病_Laplacian_256_predict.csv 53\n",
      "扩张性心肌病_SDNE_128_predict.csv 13\n",
      "扩张性心肌病_struc2vec_256_predict.csv 21\n",
      "扩张性心肌病_struc2vec_128_predict.csv 7\n",
      "扩张性心肌病_LINE_256_predict.csv 43\n",
      "扩张性心肌病_HOPE_128_predict.csv 3\n",
      "扩张性心肌病_GraRep_256_predict.csv 43\n",
      "扩张性心肌病_GF_128_predict.csv 11\n",
      "扩张性心肌病_node2vec_128_predict.csv 23\n",
      "扩张性心肌病_DeepWalk_128_predict.csv 14\n"
     ]
    }
   ],
   "source": [
    "standard_file = '扩张性心肌病金标准集.csv'\n",
    "tr = 100\n",
    "literature_gene_list = pd.read_csv(standard_file, header=None)\n",
    "for predict_file in glob.glob('*_predict.csv'):\n",
    "    df = pd.read_csv(predict_file, header=0, encoding='utf-8').sort_values('prob', ascending=False)\n",
    "    df = df[0:tr]\n",
    "    df = df[df['name'].isin(literature_gene_list[0])]\n",
    "    print(predict_file, len(df))"
   ]
  },
  {
   "cell_type": "code",
   "execution_count": null,
   "metadata": {},
   "outputs": [],
   "source": []
  }
 ],
 "metadata": {
  "kernelspec": {
   "display_name": "Python [conda env:root] *",
   "language": "python",
   "name": "conda-root-py"
  },
  "language_info": {
   "codemirror_mode": {
    "name": "ipython",
    "version": 3
   },
   "file_extension": ".py",
   "mimetype": "text/x-python",
   "name": "python",
   "nbconvert_exporter": "python",
   "pygments_lexer": "ipython3",
   "version": "3.7.4"
  },
  "toc": {
   "base_numbering": 1,
   "nav_menu": {},
   "number_sections": true,
   "sideBar": true,
   "skip_h1_title": false,
   "title_cell": "Table of Contents",
   "title_sidebar": "Contents",
   "toc_cell": false,
   "toc_position": {},
   "toc_section_display": true,
   "toc_window_display": false
  }
 },
 "nbformat": 4,
 "nbformat_minor": 2
}
